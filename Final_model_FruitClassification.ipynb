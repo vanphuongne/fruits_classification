{
  "cells": [
    {
      "cell_type": "markdown",
      "metadata": {
        "colab_type": "text",
        "id": "view-in-github"
      },
      "source": [
        "<a href=\"https://colab.research.google.com/github/nhatminh-it/fruits_classification/blob/master/Final_model_FruitClassification.ipynb\" target=\"_parent\"><img src=\"https://colab.research.google.com/assets/colab-badge.svg\" alt=\"Open In Colab\"/></a>"
      ]
    },
    {
      "cell_type": "code",
      "execution_count": 7,
      "metadata": {
        "colab": {
          "base_uri": "https://localhost:8080/",
          "height": 34
        },
        "colab_type": "code",
        "id": "QSL8ttjRV_Ug",
        "outputId": "b647d940-ea9a-4bd1-f1fa-85a34c02f200"
      },
      "outputs": [
        {
          "ename": "ModuleNotFoundError",
          "evalue": "No module named 'google.colab'",
          "output_type": "error",
          "traceback": [
            "\u001b[1;31m---------------------------------------------------------------------------\u001b[0m",
            "\u001b[1;31mModuleNotFoundError\u001b[0m                       Traceback (most recent call last)",
            "\u001b[1;32me:\\CNTT\\fruits_classification\\Final_model_FruitClassification.ipynb Cell 2\u001b[0m line \u001b[0;36m1\n\u001b[1;32m----> <a href='vscode-notebook-cell:/e%3A/CNTT/fruits_classification/Final_model_FruitClassification.ipynb#W1sZmlsZQ%3D%3D?line=0'>1</a>\u001b[0m \u001b[39mfrom\u001b[39;00m \u001b[39mgoogle\u001b[39;00m\u001b[39m.\u001b[39;00m\u001b[39mcolab\u001b[39;00m \u001b[39mimport\u001b[39;00m drive\n\u001b[0;32m      <a href='vscode-notebook-cell:/e%3A/CNTT/fruits_classification/Final_model_FruitClassification.ipynb#W1sZmlsZQ%3D%3D?line=1'>2</a>\u001b[0m drive\u001b[39m.\u001b[39mmount(\u001b[39m'\u001b[39m\u001b[39m/content/drive\u001b[39m\u001b[39m'\u001b[39m)\n",
            "\u001b[1;31mModuleNotFoundError\u001b[0m: No module named 'google.colab'"
          ]
        }
      ],
      "source": [
        "from google.colab import drive\n",
        "drive.mount('/content/drive')"
      ]
    },
    {
      "cell_type": "markdown",
      "metadata": {
        "colab_type": "text",
        "id": "5PSSZVuBd9Ps"
      },
      "source": [
        "**Import thư viện cần thiết**"
      ]
    },
    {
      "cell_type": "code",
      "execution_count": null,
      "metadata": {
        "colab": {},
        "colab_type": "code",
        "id": "VXxW7igWWrId"
      },
      "outputs": [],
      "source": [
        "import pandas as pd\n",
        "from sklearn.ensemble import RandomForestClassifier\n",
        "from sklearn.svm import SVC\n",
        "from sklearn.model_selection import GridSearchCV\n",
        "from sklearn.metrics import accuracy_score, confusion_matrix\n",
        "import itertools\n",
        "import matplotlib.pyplot as plt\n",
        "import numpy as np\n",
        "import cv2\n",
        "import pickle"
      ]
    },
    {
      "cell_type": "markdown",
      "metadata": {
        "colab_type": "text",
        "id": "CksW5cCPeC19"
      },
      "source": [
        "Khởi tạo label"
      ]
    },
    {
      "cell_type": "code",
      "execution_count": null,
      "metadata": {
        "colab": {},
        "colab_type": "code",
        "id": "OkChxj1fW70w"
      },
      "outputs": [],
      "source": [
        "labels = ['cachua', 'cam', 'chuoi', 'duahau', 'le', 'nho', 'quyt', 'tao', 'thom', 'xoai']"
      ]
    },
    {
      "cell_type": "markdown",
      "metadata": {
        "colab_type": "text",
        "id": "oC5HAOZVeGVa"
      },
      "source": [
        "**Khởi tạo model RandomForestClassifier**"
      ]
    },
    {
      "cell_type": "code",
      "execution_count": null,
      "metadata": {
        "colab": {},
        "colab_type": "code",
        "id": "1ZD3V_d4XGZv"
      },
      "outputs": [],
      "source": [
        "rfc = RandomForestClassifier(random_state=42)"
      ]
    },
    {
      "cell_type": "markdown",
      "metadata": {
        "colab_type": "text",
        "id": "ITex7R8JeSVQ"
      },
      "source": [
        "**Thiết lập phạm vi parameters của RandomForestClassifier cho GridSearchCV**"
      ]
    },
    {
      "cell_type": "code",
      "execution_count": null,
      "metadata": {
        "colab": {},
        "colab_type": "code",
        "id": "bHVPh48fXMOP"
      },
      "outputs": [],
      "source": [
        "rfc_params = {'n_estimators' : [50, 100, 150, 200, 250, 300, 350, 400],\n",
        "              'max_depth' : [5, 7, 9, 11, 13, 15, 17, 19]}"
      ]
    },
    {
      "cell_type": "markdown",
      "metadata": {
        "colab_type": "text",
        "id": "BaxOHxXxeemL"
      },
      "source": [
        "**Khởi tạo model SVC**"
      ]
    },
    {
      "cell_type": "code",
      "execution_count": null,
      "metadata": {
        "colab": {},
        "colab_type": "code",
        "id": "91WdpWFaXQ8I"
      },
      "outputs": [],
      "source": [
        "svc = SVC(random_state=42)"
      ]
    },
    {
      "cell_type": "markdown",
      "metadata": {
        "colab_type": "text",
        "id": "V3m8tBQ-eiY6"
      },
      "source": [
        "**Thiết lập phạm vi parameters của SVC cho GridSearchCV**"
      ]
    },
    {
      "cell_type": "code",
      "execution_count": null,
      "metadata": {
        "colab": {},
        "colab_type": "code",
        "id": "ok7ZwJbzXXA-"
      },
      "outputs": [],
      "source": [
        "svc_params = {'kernel' : ['rbf', 'poly', 'linear'],\n",
        "              'degree' : [3, 5]}"
      ]
    },
    {
      "cell_type": "markdown",
      "metadata": {
        "colab_type": "text",
        "id": "GhBjkqJxepVL"
      },
      "source": [
        "Hàm phát họa 1 confusion matrix dựa trên 1 confusion matrix đã có và lưu về drive\n",
        "\n",
        "Function INPUT: confusion_matrix cần phát họa, label, title cho plot, tên export về drive\n",
        "\n",
        "Function OUTPUT: 1 ảnh confusion matrix, ảnh đó về drive theo path có sẵn\n",
        "\n"
      ]
    },
    {
      "cell_type": "code",
      "execution_count": null,
      "metadata": {
        "colab": {},
        "colab_type": "code",
        "id": "v-U92UX3XYjq"
      },
      "outputs": [],
      "source": [
        "def plot_confusion_matrix(cm, classes, normalize=False, title='Confusion Matrix',export_as='confusion_matrix', cmap=plt.cm.Blues):\n",
        "    \n",
        "    if normalize:\n",
        "        cm = cm.astype('float') / cm.sum(axis=1)[:, np.newaxis]\n",
        "        print(\"Normalized confusion matrix\")\n",
        "    else:\n",
        "        print('Confusion matrix, without normalization')\n",
        "\n",
        "    plt.imshow(cm, interpolation='nearest', cmap=cmap)\n",
        "    plt.title(title, fontsize=16)\n",
        "    plt.colorbar()\n",
        "    tick_marks = np.arange(len(classes))\n",
        "    plt.xticks(tick_marks, classes, rotation=45)\n",
        "    plt.yticks(tick_marks, classes)\n",
        "\n",
        "    fmt = '.2f' if normalize else 'd'\n",
        "    thresh = cm.max() / 2.\n",
        "    for i, j in itertools.product(range(cm.shape[0]), range(cm.shape[1])):\n",
        "        plt.text(j, i, format(cm[i, j], fmt), horizontalalignment=\"center\", color=\"white\" if cm[i, j] > thresh else \"black\")\n",
        "\n",
        "    plt.tight_layout()\n",
        "    plt.ylabel('True labels', fontsize=14)\n",
        "    plt.xlabel('Predicted labels', fontsize=14)\n",
        "\n",
        "    plt.savefig(f'/content/drive/My Drive/Fruit recognition/plots image/{export_as}.png', bbox_inches='tight');"
      ]
    },
    {
      "cell_type": "markdown",
      "metadata": {
        "colab_type": "text",
        "id": "Nq8PP8Hmgh49"
      },
      "source": [
        "**Load dataframe đã lưu ở nhưng notebook trước**\n",
        "\n",
        "* edge_cluster: \n",
        "  * dataframe được tạo bởi thuật toán tìm cạnh Canny Edge trên ảnh đã được phần cụm còn 2 màu dùng thuật toán Kmeans. \n",
        "  * Sau đó tính mean và std của từng phần 40x40 pixels\n",
        "  * dataframe gồm 51 cột, 1 cột label, 50 cột features\n",
        "\n",
        "* cluster_features_2: \n",
        "  * được tạo bởi ảnh đã được phần cụm còn 2 màu dùng thuật toán Kmeans. \n",
        "  * Sau đó tính mean và std của từng Channel màu.\n",
        "  * dataframe gồm 7 cột, 1 cột label, 6 cột features"
      ]
    },
    {
      "cell_type": "code",
      "execution_count": null,
      "metadata": {
        "colab": {},
        "colab_type": "code",
        "id": "o9VoGhK0XoeA"
      },
      "outputs": [],
      "source": [
        "edge_cluster_train = pd.read_csv('/content/drive/My Drive/Fruit recognition/output_input/25_edge+cluster_train_features.csv')\n",
        "edge_cluster_test = pd.read_csv('/content/drive/My Drive/Fruit recognition/output_input/25_edge+cluster_valid_features.csv')\n",
        "\n",
        "cluster_features_2_train = pd.read_csv('/content/drive/My Drive/Fruit recognition/output_input/25_cluster_features_2_train.csv')\n",
        "cluster_features_2_test = pd.read_csv('/content/drive/My Drive/Fruit recognition/output_input/25_cluster_features_2_test.csv')"
      ]
    },
    {
      "cell_type": "code",
      "execution_count": null,
      "metadata": {
        "colab": {
          "base_uri": "https://localhost:8080/",
          "height": 84
        },
        "colab_type": "code",
        "id": "ZRMskFS3XyT0",
        "outputId": "de754bc4-fcd4-422b-f5e1-0e7c58eaa64e"
      },
      "outputs": [
        {
          "name": "stdout",
          "output_type": "stream",
          "text": [
            "(1870, 51)\n",
            "(630, 51)\n",
            "(1870, 7)\n",
            "(630, 7)\n"
          ]
        }
      ],
      "source": [
        "print(edge_cluster_train.shape)\n",
        "print(edge_cluster_test.shape)\n",
        "print(cluster_features_2_train.shape)\n",
        "print(cluster_features_2_test.shape)"
      ]
    },
    {
      "cell_type": "markdown",
      "metadata": {
        "colab_type": "text",
        "id": "eVkAvAVpihzE"
      },
      "source": [
        "Ghép 2 dataframe lại"
      ]
    },
    {
      "cell_type": "code",
      "execution_count": null,
      "metadata": {
        "colab": {},
        "colab_type": "code",
        "id": "t4o5VamwYsmQ"
      },
      "outputs": [],
      "source": [
        "df_train = pd.concat([cluster_features_2_train, edge_cluster_train.drop(['name'], axis=1)],axis=1)\n",
        "df_test = pd.concat([cluster_features_2_test, edge_cluster_test.drop(['name'], axis=1)],axis=1)"
      ]
    },
    {
      "cell_type": "code",
      "execution_count": null,
      "metadata": {
        "colab": {
          "base_uri": "https://localhost:8080/",
          "height": 50
        },
        "colab_type": "code",
        "id": "P2M7JrFHZPYj",
        "outputId": "96bd44d2-37e9-4a22-b67f-60fdc5390f10"
      },
      "outputs": [
        {
          "name": "stdout",
          "output_type": "stream",
          "text": [
            "(1870, 57)\n",
            "(630, 57)\n"
          ]
        }
      ],
      "source": [
        "print(df_train.shape)\n",
        "print(df_test.shape)"
      ]
    },
    {
      "cell_type": "code",
      "execution_count": null,
      "metadata": {
        "colab": {
          "base_uri": "https://localhost:8080/",
          "height": 84
        },
        "colab_type": "code",
        "id": "En2pUuxsZHzS",
        "outputId": "9f62c9e6-934b-44f4-d503-9604d415e05f"
      },
      "outputs": [
        {
          "name": "stdout",
          "output_type": "stream",
          "text": [
            "(1870, 56)\n",
            "(630, 56)\n",
            "(1870,)\n",
            "(630,)\n"
          ]
        }
      ],
      "source": [
        "Y_train = df_train['name']\n",
        "X_train = df_train.drop(['name'], axis=1)\n",
        "Y_test = df_test['name']\n",
        "X_test = df_test.drop(['name'], axis=1)\n",
        "\n",
        "print(X_train.shape)\n",
        "print(X_test.shape)\n",
        "print(Y_train.shape)\n",
        "print(Y_test.shape)"
      ]
    },
    {
      "cell_type": "markdown",
      "metadata": {
        "colab_type": "text",
        "id": "edMDok9iioo8"
      },
      "source": [
        "Sử dụng GridSearchCv train model RandomForestClassifier"
      ]
    },
    {
      "cell_type": "code",
      "execution_count": null,
      "metadata": {
        "colab": {
          "base_uri": "https://localhost:8080/",
          "height": 370
        },
        "colab_type": "code",
        "id": "hOeMzvzdZqlu",
        "outputId": "66a6b373-5a4a-4b4e-cae3-1b98e122e2d1"
      },
      "outputs": [
        {
          "data": {
            "text/plain": [
              "GridSearchCV(cv=None, error_score=nan,\n",
              "             estimator=RandomForestClassifier(bootstrap=True, ccp_alpha=0.0,\n",
              "                                              class_weight=None,\n",
              "                                              criterion='gini', max_depth=None,\n",
              "                                              max_features='auto',\n",
              "                                              max_leaf_nodes=None,\n",
              "                                              max_samples=None,\n",
              "                                              min_impurity_decrease=0.0,\n",
              "                                              min_impurity_split=None,\n",
              "                                              min_samples_leaf=1,\n",
              "                                              min_samples_split=2,\n",
              "                                              min_weight_fraction_leaf=0.0,\n",
              "                                              n_estimators=100, n_jobs=None,\n",
              "                                              oob_score=False, random_state=42,\n",
              "                                              verbose=0, warm_start=False),\n",
              "             iid='deprecated', n_jobs=-1,\n",
              "             param_grid={'max_depth': [5, 7, 9, 11, 13, 15, 17, 19],\n",
              "                         'n_estimators': [50, 100, 150, 200, 250, 300, 350,\n",
              "                                          400]},\n",
              "             pre_dispatch='2*n_jobs', refit=True, return_train_score=False,\n",
              "             scoring=None, verbose=0)"
            ]
          },
          "execution_count": 14,
          "metadata": {
            "tags": []
          },
          "output_type": "execute_result"
        }
      ],
      "source": [
        "rfc_final = GridSearchCV(rfc, param_grid=rfc_params, n_jobs=-1)\n",
        "rfc_final.fit(X_train, Y_train)"
      ]
    },
    {
      "cell_type": "code",
      "execution_count": null,
      "metadata": {
        "colab": {
          "base_uri": "https://localhost:8080/"
        },
        "colab_type": "code",
        "id": "T_YWz0ibZynW",
        "outputId": "9ae55267-c8e3-4e52-9d01-84619d3abef2"
      },
      "outputs": [
        {
          "name": "stdout",
          "output_type": "stream",
          "text": [
            "best param: {'max_depth': 15, 'n_estimators': 300}\n",
            "train_acc: 1.0\n",
            "test acc: 0.9523809523809523\n"
          ]
        }
      ],
      "source": [
        "print('best param:', rfc_final.best_params_)\n",
        "print('train_acc:',accuracy_score(Y_train, rfc_final.predict(X_train)))\n",
        "rfc_test_acc = accuracy_score(Y_test, rfc_final.predict(X_test))\n",
        "print('test acc:', rfc_test_acc)"
      ]
    },
    {
      "cell_type": "markdown",
      "metadata": {
        "colab_type": "text",
        "id": "yUzeLgYwi0-e"
      },
      "source": [
        "Lấy confusion matrix"
      ]
    },
    {
      "cell_type": "code",
      "execution_count": null,
      "metadata": {
        "colab": {
          "base_uri": "https://localhost:8080/"
        },
        "colab_type": "code",
        "id": "ncZwThaIZ8ZX",
        "outputId": "4c9c18e6-97cb-4e7b-f643-227e7ff6e1f0"
      },
      "outputs": [
        {
          "data": {
            "text/plain": [
              "array([[63,  0,  0,  0,  0,  0,  0,  0,  0,  0],\n",
              "       [ 0, 63,  0,  0,  0,  0,  0,  0,  0,  0],\n",
              "       [ 0,  0, 62,  0,  0,  1,  0,  0,  0,  0],\n",
              "       [ 0,  0,  0, 61,  0,  0,  0,  0,  0,  2],\n",
              "       [ 0,  0,  0,  0, 48,  1,  0,  7,  2,  5],\n",
              "       [ 0,  0,  0,  0,  0, 63,  0,  0,  0,  0],\n",
              "       [ 0,  0,  1,  0,  0,  0, 62,  0,  0,  0],\n",
              "       [ 6,  0,  0,  0,  0,  2,  0, 55,  0,  0],\n",
              "       [ 0,  0,  0,  0,  0,  0,  0,  0, 63,  0],\n",
              "       [ 0,  0,  2,  0,  1,  0,  0,  0,  0, 60]])"
            ]
          },
          "execution_count": 16,
          "metadata": {
            "tags": []
          },
          "output_type": "execute_result"
        }
      ],
      "source": [
        "rfc_pred = rfc_final.predict(X_test)\n",
        "conf_mat_rfc = confusion_matrix(Y_test, rfc_pred)\n",
        "conf_mat_rfc"
      ]
    },
    {
      "cell_type": "code",
      "execution_count": null,
      "metadata": {
        "colab": {
          "base_uri": "https://localhost:8080/"
        },
        "colab_type": "code",
        "id": "6z6__ZRpaNUv",
        "outputId": "04d9a0a9-3836-4412-d6c9-6210668160d9"
      },
      "outputs": [
        {
          "name": "stdout",
          "output_type": "stream",
          "text": [
            "Normalized confusion matrix\n"
          ]
        },
        {
          "data": {
            "image/png": "[encoded data removed]",
            "text/plain": [
              "<Figure size 1152x576 with 2 Axes>"
            ]
          },
          "metadata": {
            "needs_background": "light",
            "tags": []
          },
          "output_type": "display_data"
        }
      ],
      "source": [
        "cm_plot_labels = labels\n",
        "\n",
        "plt.figure(figsize=(16,8))\n",
        "plot_confusion_matrix(conf_mat_rfc, cm_plot_labels, normalize=True,\n",
        "                      title=\"Confusion Matrix based on predictions from\\nRandomForestClassifier final model\",\n",
        "                      export_as=\"rfc_final_model\"\n",
        "                     )\n",
        "\n",
        "plt.show()"
      ]
    },
    {
      "cell_type": "markdown",
      "metadata": {
        "colab_type": "text",
        "id": "A6oLUUFMjAee"
      },
      "source": [
        "Sử dụng GridSearchCV train model SVC"
      ]
    },
    {
      "cell_type": "code",
      "execution_count": null,
      "metadata": {
        "colab": {
          "base_uri": "https://localhost:8080/"
        },
        "colab_type": "code",
        "id": "y1wSBUZobiJf",
        "outputId": "ea0a3144-73cb-4ad2-c3d4-ca035c510a91"
      },
      "outputs": [
        {
          "data": {
            "text/plain": [
              "GridSearchCV(cv=None, error_score=nan,\n",
              "             estimator=SVC(C=1.0, break_ties=False, cache_size=200,\n",
              "                           class_weight=None, coef0=0.0,\n",
              "                           decision_function_shape='ovr', degree=3,\n",
              "                           gamma='scale', kernel='rbf', max_iter=-1,\n",
              "                           probability=False, random_state=42, shrinking=True,\n",
              "                           tol=0.001, verbose=False),\n",
              "             iid='deprecated', n_jobs=-1,\n",
              "             param_grid={'degree': [3, 5], 'kernel': ['rbf', 'poly', 'linear']},\n",
              "             pre_dispatch='2*n_jobs', refit=True, return_train_score=False,\n",
              "             scoring=None, verbose=0)"
            ]
          },
          "execution_count": 18,
          "metadata": {
            "tags": []
          },
          "output_type": "execute_result"
        }
      ],
      "source": [
        "svc_final = GridSearchCV(svc, param_grid=svc_params, n_jobs=-1)\n",
        "svc_final.fit(X_train, Y_train)"
      ]
    },
    {
      "cell_type": "code",
      "execution_count": null,
      "metadata": {
        "colab": {
          "base_uri": "https://localhost:8080/"
        },
        "colab_type": "code",
        "id": "uIY05YbKcSd_",
        "outputId": "fc26fdaa-6c9a-4f87-b4f3-1767a644f0db"
      },
      "outputs": [
        {
          "name": "stdout",
          "output_type": "stream",
          "text": [
            "best params: {'degree': 3, 'kernel': 'linear'}\n",
            "train_acc: 1.0\n",
            "test_acc: 0.9412698412698413\n"
          ]
        }
      ],
      "source": [
        "print('best params:',svc_final.best_params_)\n",
        "print('train_acc:',accuracy_score(Y_train, svc_final.predict(X_train)))\n",
        "svc_test_acc = accuracy_score(Y_test, svc_final.predict(X_test))\n",
        "print('test_acc:',svc_test_acc)"
      ]
    },
    {
      "cell_type": "markdown",
      "metadata": {
        "colab_type": "text",
        "id": "XIdCvqI4jHAZ"
      },
      "source": [
        "Lấy confusion matrix"
      ]
    },
    {
      "cell_type": "code",
      "execution_count": null,
      "metadata": {
        "colab": {
          "base_uri": "https://localhost:8080/"
        },
        "colab_type": "code",
        "id": "5s1tG-VHdark",
        "outputId": "8e5211c0-cddf-4d24-c17c-bfef3ec5e385"
      },
      "outputs": [
        {
          "data": {
            "text/plain": [
              "array([[60,  0,  0,  0,  0,  2,  0,  1,  0,  0],\n",
              "       [ 0, 60,  3,  0,  0,  0,  0,  0,  0,  0],\n",
              "       [ 0,  0, 61,  0,  2,  0,  0,  0,  0,  0],\n",
              "       [ 0,  0,  0, 63,  0,  0,  0,  0,  0,  0],\n",
              "       [ 3,  1,  1,  0, 53,  1,  0,  2,  0,  2],\n",
              "       [ 0,  0,  0,  0,  0, 62,  0,  1,  0,  0],\n",
              "       [ 0,  0,  2,  0,  0,  0, 60,  0,  0,  1],\n",
              "       [ 6,  0,  0,  0,  0,  0,  0, 57,  0,  0],\n",
              "       [ 0,  0,  0,  1,  0,  0,  0,  0, 62,  0],\n",
              "       [ 0,  0,  0,  2,  5,  0,  1,  0,  0, 55]])"
            ]
          },
          "execution_count": 20,
          "metadata": {
            "tags": []
          },
          "output_type": "execute_result"
        }
      ],
      "source": [
        "svc_pred = svc_final.predict(X_test)\n",
        "conf_mat_svc = confusion_matrix(Y_test, svc_pred)\n",
        "conf_mat_svc"
      ]
    },
    {
      "cell_type": "code",
      "execution_count": null,
      "metadata": {
        "colab": {
          "base_uri": "https://localhost:8080/",
          "height": 620
        },
        "colab_type": "code",
        "id": "pFuD_68kdUr9",
        "outputId": "c84d24eb-addd-4f18-b222-80b3e045ec8d"
      },
      "outputs": [
        {
          "name": "stdout",
          "output_type": "stream",
          "text": [
            "Normalized confusion matrix\n"
          ]
        },
        {
          "data": {
            "image/png": "[encoded data removed]",
            "text/plain": [
              "<Figure size 1152x576 with 2 Axes>"
            ]
          },
          "metadata": {
            "needs_background": "light",
            "tags": []
          },
          "output_type": "display_data"
        }
      ],
      "source": [
        "cm_plot_labels = labels\n",
        "\n",
        "plt.figure(figsize=(16,8))\n",
        "plot_confusion_matrix(conf_mat_svc, cm_plot_labels, normalize=True,\n",
        "                      title=\"Confusion Matrix based on predictions from\\nSVC final model\",\n",
        "                      export_as=\"svc_final_model\"\n",
        "                     )\n",
        "\n",
        "plt.show()"
      ]
    },
    {
      "cell_type": "markdown",
      "metadata": {
        "colab_type": "text",
        "id": "CDbcEiYJlk2g"
      },
      "source": [
        "Lưu 2 model về drive"
      ]
    },
    {
      "cell_type": "code",
      "execution_count": null,
      "metadata": {
        "colab": {},
        "colab_type": "code",
        "id": "XrijLfTalDZs"
      },
      "outputs": [],
      "source": [
        "rfc_pickle = f\"/content/drive/My Drive/Fruit recognition/models/rfc_final_model_acc_{round(rfc_test_acc, 3)}\"\n",
        "pickle.dump(rfc_final, open(rfc_pickle, 'wb'))\n",
        "\n",
        "svc_pickle = f\"/content/drive/My Drive/Fruit recognition/models/svc_final_model_acc_{round(svc_test_acc, 3)}\"\n",
        "pickle.dump(svc_final, open(svc_pickle, 'wb'))"
      ]
    },
    {
      "cell_type": "markdown",
      "metadata": {
        "colab_type": "text",
        "id": "gk4RfQNtjKzt"
      },
      "source": [
        "# Tổng kết\n",
        "* RandomForestClassifier\n",
        "\n",
        " * best param: {'max_depth': 15, 'n_estimators': 300}\n",
        " * train accuracy: 1.0\n",
        " * test accuracy: 0.9523809523809523\n",
        " * Những trái đúng 100% trong tập test: cà chua, cam, nho, thơm\n",
        "\n",
        "* SVC\n",
        " * best params: {'degree': 3, 'kernel': 'linear'}\n",
        " * train accuracy: 1.0\n",
        " * test accuracy: 0.9412698412698413\n",
        " * Những trái đúng 100% trong tập test: dưa hấu"
      ]
    }
  ],
  "metadata": {
    "colab": {
      "include_colab_link": true,
      "name": "Final_model_FruitClassification.ipynb",
      "provenance": []
    },
    "kernelspec": {
      "display_name": "Python 3",
      "name": "python3"
    },
    "language_info": {
      "codemirror_mode": {
        "name": "ipython",
        "version": 3
      },
      "file_extension": ".py",
      "mimetype": "text/x-python",
      "name": "python",
      "nbconvert_exporter": "python",
      "pygments_lexer": "ipython3",
      "version": "0.0.0"
    }
  },
  "nbformat": 4,
  "nbformat_minor": 0
}
