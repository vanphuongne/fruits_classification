{
  "nbformat": 4,
  "nbformat_minor": 0,
  "metadata": {
    "colab": {
      "name": "eval_cluster_color.ipynb",
      "provenance": [],
      "authorship_tag": "ABX9TyMs1FjTLqVWWklPFISRtIyE",
      "include_colab_link": true
    },
    "kernelspec": {
      "name": "python3",
      "display_name": "Python 3"
    }
  },
  "cells": [
    {
      "cell_type": "markdown",
      "metadata": {
        "id": "view-in-github",
        "colab_type": "text"
      },
      "source": [
        "<a href=\"https://colab.research.google.com/github/nhatminh-it/fruits_classification/blob/master/eval_cluster_color.ipynb\" target=\"_parent\"><img src=\"https://colab.research.google.com/assets/colab-badge.svg\" alt=\"Open In Colab\"/></a>"
      ]
    },
    {
      "cell_type": "code",
      "metadata": {
        "id": "2Ah-_coal0Lg",
        "colab_type": "code",
        "colab": {
          "base_uri": "https://localhost:8080/",
          "height": 122
        },
        "outputId": "b6e7c8b5-abcb-4fa0-810e-d56dd48e7766"
      },
      "source": [
        "from google.colab import drive\n",
        "drive.mount('/content/drive')"
      ],
      "execution_count": null,
      "outputs": [
        {
          "output_type": "stream",
          "text": [
            "Go to this URL in a browser: https://accounts.google.com/o/oauth2/auth?client_id=947318989803-6bn6qk8qdgf4n4g3pfee6491hc0brc4i.apps.googleusercontent.com&redirect_uri=urn%3aietf%3awg%3aoauth%3a2.0%3aoob&response_type=code&scope=email%20https%3a%2f%2fwww.googleapis.com%2fauth%2fdocs.test%20https%3a%2f%2fwww.googleapis.com%2fauth%2fdrive%20https%3a%2f%2fwww.googleapis.com%2fauth%2fdrive.photos.readonly%20https%3a%2f%2fwww.googleapis.com%2fauth%2fpeopleapi.readonly\n",
            "\n",
            "Enter your authorization code:\n",
            "··········\n",
            "Mounted at /content/drive\n"
          ],
          "name": "stdout"
        }
      ]
    },
    {
      "cell_type": "code",
      "metadata": {
        "id": "OolADjuxoeIC",
        "colab_type": "code",
        "colab": {}
      },
      "source": [
        "import pandas as pd\n",
        "from sklearn.ensemble import RandomForestClassifier\n",
        "from sklearn.svm import SVC\n",
        "from sklearn.metrics import accuracy_score\n",
        "import cv2"
      ],
      "execution_count": null,
      "outputs": []
    },
    {
      "cell_type": "code",
      "metadata": {
        "id": "XaRRVw7jpC4p",
        "colab_type": "code",
        "colab": {}
      },
      "source": [
        "cluster_features_1_train = pd.read_csv('/content/drive/My Drive/Fruit recognition/output_input/25_cluster_features_1_train.csv')\n",
        "cluster_features_1_test = pd.read_csv('/content/drive/My Drive/Fruit recognition/output_input/25_cluster_features_1_test.csv')\n",
        "\n",
        "cluster_features_2_train = pd.read_csv('/content/drive/My Drive/Fruit recognition/output_input/25_cluster_features_2_train.csv')\n",
        "cluster_features_2_test = pd.read_csv('/content/drive/My Drive/Fruit recognition/output_input/25_cluster_features_2_test.csv')"
      ],
      "execution_count": null,
      "outputs": []
    },
    {
      "cell_type": "code",
      "metadata": {
        "id": "8HFccPsfpjBo",
        "colab_type": "code",
        "colab": {}
      },
      "source": [
        "models = []\n",
        "models.append(('rfc', RandomForestClassifier()))\n",
        "models.append(('svc', SVC()))"
      ],
      "execution_count": null,
      "outputs": []
    },
    {
      "cell_type": "code",
      "metadata": {
        "id": "AD7S9idgpLft",
        "colab_type": "code",
        "colab": {
          "base_uri": "https://localhost:8080/",
          "height": 85
        },
        "outputId": "26329f4b-728d-459b-defa-68b9e5eb253f"
      },
      "source": [
        "print(cluster_features_1_train.shape)\n",
        "print(cluster_features_1_test.shape)\n",
        "print(cluster_features_2_train.shape)\n",
        "print(cluster_features_2_test.shape)"
      ],
      "execution_count": null,
      "outputs": [
        {
          "output_type": "stream",
          "text": [
            "(1870, 51)\n",
            "(630, 51)\n",
            "(1870, 7)\n",
            "(630, 7)\n"
          ],
          "name": "stdout"
        }
      ]
    },
    {
      "cell_type": "markdown",
      "metadata": {
        "id": "bv56y5EMpYDg",
        "colab_type": "text"
      },
      "source": [
        "# Cluster 1"
      ]
    },
    {
      "cell_type": "code",
      "metadata": {
        "id": "unaUWkyzpQHE",
        "colab_type": "code",
        "colab": {
          "base_uri": "https://localhost:8080/",
          "height": 85
        },
        "outputId": "3b988d7f-c36e-4533-d74d-d5927f4453f1"
      },
      "source": [
        "Y_train = cluster_features_1_train['name']\n",
        "X_train = cluster_features_1_train.drop(['name'], axis=1)\n",
        "Y_test = cluster_features_1_test['name']\n",
        "X_test = cluster_features_1_test.drop(['name'], axis=1)\n",
        "\n",
        "print(X_train.shape)\n",
        "print(X_test.shape)\n",
        "print(Y_train.shape)\n",
        "print(Y_test.shape)"
      ],
      "execution_count": null,
      "outputs": [
        {
          "output_type": "stream",
          "text": [
            "(1870, 50)\n",
            "(630, 50)\n",
            "(1870,)\n",
            "(630,)\n"
          ],
          "name": "stdout"
        }
      ]
    },
    {
      "cell_type": "code",
      "metadata": {
        "id": "u6PBP-6Pp6WG",
        "colab_type": "code",
        "colab": {
          "base_uri": "https://localhost:8080/",
          "height": 119
        },
        "outputId": "de25ac32-9117-47e0-ee0a-24639154789c"
      },
      "source": [
        "for name, model in models:\n",
        "  model.fit(X_train, Y_train)\n",
        "  print(name)\n",
        "  print('train_acc', accuracy_score(Y_train, model.predict(X_train)))\n",
        "  print('test_acc', accuracy_score(Y_test, model.predict(X_test)))"
      ],
      "execution_count": null,
      "outputs": [
        {
          "output_type": "stream",
          "text": [
            "rfc\n",
            "train_acc 1.0\n",
            "test_acc 0.8365079365079365\n",
            "svc\n",
            "train_acc 0.9096256684491979\n",
            "test_acc 0.8269841269841269\n"
          ],
          "name": "stdout"
        }
      ]
    },
    {
      "cell_type": "markdown",
      "metadata": {
        "id": "yvC_ATMHqYKo",
        "colab_type": "text"
      },
      "source": [
        "# Cluster 2"
      ]
    },
    {
      "cell_type": "code",
      "metadata": {
        "id": "aAM5dolRqdsk",
        "colab_type": "code",
        "colab": {
          "base_uri": "https://localhost:8080/",
          "height": 85
        },
        "outputId": "70add160-f1e7-4c75-8481-330975a6c1dd"
      },
      "source": [
        "Y_train = cluster_features_2_train['name']\n",
        "X_train = cluster_features_2_train.drop(['name'], axis=1)\n",
        "Y_test = cluster_features_2_test['name']\n",
        "X_test = cluster_features_2_test.drop(['name'], axis=1)\n",
        "\n",
        "print(X_train.shape)\n",
        "print(X_test.shape)\n",
        "print(Y_train.shape)\n",
        "print(Y_test.shape)"
      ],
      "execution_count": null,
      "outputs": [
        {
          "output_type": "stream",
          "text": [
            "(1870, 6)\n",
            "(630, 6)\n",
            "(1870,)\n",
            "(630,)\n"
          ],
          "name": "stdout"
        }
      ]
    },
    {
      "cell_type": "code",
      "metadata": {
        "id": "plGBSqhFqgmu",
        "colab_type": "code",
        "colab": {
          "base_uri": "https://localhost:8080/",
          "height": 119
        },
        "outputId": "f28f05b8-0870-4310-f0c1-ec2e5368dadc"
      },
      "source": [
        "for name, model in models:\n",
        "  model.fit(X_train, Y_train)\n",
        "  print(name)\n",
        "  print('train_acc', accuracy_score(Y_train, model.predict(X_train)))\n",
        "  print('test_acc', accuracy_score(Y_test, model.predict(X_test)))"
      ],
      "execution_count": null,
      "outputs": [
        {
          "output_type": "stream",
          "text": [
            "rfc\n",
            "train_acc 1.0\n",
            "test_acc 0.9142857142857143\n",
            "svc\n",
            "train_acc 0.8978609625668449\n",
            "test_acc 0.9047619047619048\n"
          ],
          "name": "stdout"
        }
      ]
    },
    {
      "cell_type": "markdown",
      "metadata": {
        "id": "2wTWgWNa0Ktj",
        "colab_type": "text"
      },
      "source": [
        "# Tổng kết\n",
        "* Cluster 1 (50 columns)\n",
        "\n",
        "  RandomForestClassfier\n",
        "    - Train accuraccy: 1.0\n",
        "    - Test accuraccy: 0.8365079365079365\n",
        "\n",
        "  SVC\n",
        "    - Train accuraccy: 0.9096256684491979\n",
        "    - Test accuraccy: 0.8269841269841269\n",
        "\n",
        "* Cluster 2 (6 columns)\n",
        "\n",
        "  RandomForestClassfier\n",
        "    - Train accuraccy: 1.0\n",
        "    - Test accuraccy: 0.9142857142857143\n",
        "\n",
        "  SVC\n",
        "    - Train accuraccy: 0.8978609625668449\n",
        "    - Test accuraccy: 0.9047619047619048\n",
        "\n",
        "**Đánh giá tổng quan Cluster 2 cho ra kết quả tốt hơn.**\n"
      ]
    }
  ]
}