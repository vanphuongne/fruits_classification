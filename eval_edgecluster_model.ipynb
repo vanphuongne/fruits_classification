{
  "nbformat": 4,
  "nbformat_minor": 0,
  "metadata": {
    "colab": {
      "name": "eval_edgecluster_model.ipynb",
      "provenance": [],
      "collapsed_sections": [
        "ep_3Icg_pcz5"
      ],
      "toc_visible": true,
      "include_colab_link": true
    },
    "kernelspec": {
      "name": "python3",
      "display_name": "Python 3"
    }
  },
  "cells": [
    {
      "cell_type": "markdown",
      "metadata": {
        "id": "view-in-github",
        "colab_type": "text"
      },
      "source": [
        "<a href=\"https://colab.research.google.com/github/nhatminh-it/fruits_classification/blob/master/eval_edgecluster_model.ipynb\" target=\"_parent\"><img src=\"https://colab.research.google.com/assets/colab-badge.svg\" alt=\"Open In Colab\"/></a>"
      ]
    },
    {
      "cell_type": "markdown",
      "metadata": {
        "id": "PyBo0GqTpFWo",
        "colab_type": "text"
      },
      "source": [
        "## Import các thư viện cần thiết"
      ]
    },
    {
      "cell_type": "code",
      "metadata": {
        "id": "OjWJB4H6TEVL",
        "colab_type": "code",
        "colab": {}
      },
      "source": [
        "import pandas as pd\n",
        "import matplotlib.pyplot as plt\n",
        "import numpy as np\n",
        "import cv2\n",
        "import os"
      ],
      "execution_count": null,
      "outputs": []
    },
    {
      "cell_type": "code",
      "metadata": {
        "id": "GiTV-Yn-UHml",
        "colab_type": "code",
        "colab": {}
      },
      "source": [
        "from sklearn.ensemble import RandomForestClassifier\n",
        "from sklearn.svm import SVC\n",
        "from sklearn.neighbors import KNeighborsClassifier\n",
        "\n",
        "from sklearn.metrics import accuracy_score"
      ],
      "execution_count": null,
      "outputs": []
    },
    {
      "cell_type": "markdown",
      "metadata": {
        "id": "t3sYCrbYT9Jo",
        "colab_type": "text"
      },
      "source": [
        "## Nhận dataframe từ drive"
      ]
    },
    {
      "cell_type": "code",
      "metadata": {
        "id": "TmjCSOA3TMQj",
        "colab_type": "code",
        "colab": {
          "base_uri": "https://localhost:8080/",
          "height": 54
        },
        "outputId": "a56e1106-dd50-43e2-918e-d603a06fb253"
      },
      "source": [
        "from google.colab import drive\n",
        "drive.mount('/content/drive')"
      ],
      "execution_count": null,
      "outputs": [
        {
          "output_type": "stream",
          "text": [
            "Drive already mounted at /content/drive; to attempt to forcibly remount, call drive.mount(\"/content/drive\", force_remount=True).\n"
          ],
          "name": "stdout"
        }
      ]
    },
    {
      "cell_type": "markdown",
      "metadata": {
        "id": "W_bxgp-PUIBw",
        "colab_type": "text"
      },
      "source": [
        "## Tạo model sử dụng canny edge trên ảnh gốc "
      ]
    },
    {
      "cell_type": "code",
      "metadata": {
        "id": "q1e6VzPOUSDn",
        "colab_type": "code",
        "colab": {}
      },
      "source": [
        "def Ori_Canny (img):\n",
        "    resized = cv2.resize(img, (200, 200))\n",
        "    gray = cv2.cvtColor(resized, cv2.COLOR_BGR2GRAY)\n",
        "    blur = cv2.GaussianBlur(gray, (5,5), 0)\n",
        "    edge = cv2.Canny (blur, 70, 50)\n",
        "    return edge"
      ],
      "execution_count": null,
      "outputs": []
    },
    {
      "cell_type": "markdown",
      "metadata": {
        "id": "soZN_ps5W7o7",
        "colab_type": "text"
      },
      "source": [
        "tạo tập train và valid từ dataframe đã tạo"
      ]
    },
    {
      "cell_type": "code",
      "metadata": {
        "id": "8_P_5gE-VSXp",
        "colab_type": "code",
        "colab": {}
      },
      "source": [
        "train_edge = pd.read_csv('/content/drive/My Drive/Fruit recognition/output_input/25_canny_features_train.csv')\n",
        "valid_edge = pd.read_csv ('/content/drive/My Drive/Fruit recognition/output_input/25_canny_features_test.csv')"
      ],
      "execution_count": null,
      "outputs": []
    },
    {
      "cell_type": "code",
      "metadata": {
        "id": "xxymXBt3VgTM",
        "colab_type": "code",
        "colab": {}
      },
      "source": [
        "label_train_edge = train_edge['name']\n",
        "features_train_edge = train_edge.drop(['name'], axis = 1)\n",
        "label_valid_edge = valid_edge['name']\n",
        "features_valid_edge = valid_edge.drop(['name'], axis = 1)"
      ],
      "execution_count": null,
      "outputs": []
    },
    {
      "cell_type": "markdown",
      "metadata": {
        "id": "x8cDYjc9W1DL",
        "colab_type": "text"
      },
      "source": [
        "đánh giá các thuật toán tốt nhất"
      ]
    },
    {
      "cell_type": "code",
      "metadata": {
        "id": "yYV8BTqeVbCM",
        "colab_type": "code",
        "colab": {
          "base_uri": "https://localhost:8080/",
          "height": 85
        },
        "outputId": "b18d19a1-81f5-4ba1-fb75-155c68457f60"
      },
      "source": [
        "models = []\n",
        "models.append(('rfc', RandomForestClassifier()))\n",
        "models.append(('svc', SVC()))\n",
        "\n",
        "for name, model in models:\n",
        "  print(name)\n",
        "  model.fit(features_train_edge, label_train_edge)\n",
        "  pred = model.predict(features_valid_edge)\n",
        "  print('\\ttest', accuracy_score(label_valid_edge, pred))"
      ],
      "execution_count": null,
      "outputs": [
        {
          "output_type": "stream",
          "text": [
            "rfc\n",
            "\ttest 0.7746031746031746\n",
            "svc\n",
            "\ttest 0.8047619047619048\n"
          ],
          "name": "stdout"
        }
      ]
    },
    {
      "cell_type": "markdown",
      "metadata": {
        "id": "DCaGnRT3gBda",
        "colab_type": "text"
      },
      "source": [
        "như vậy svc tốt hơn rfc "
      ]
    },
    {
      "cell_type": "markdown",
      "metadata": {
        "id": "hvCUyxECWuMC",
        "colab_type": "text"
      },
      "source": [
        "## Đánh giá model sử dụng cluster màu và cả canny edge"
      ]
    },
    {
      "cell_type": "code",
      "metadata": {
        "id": "4OIRzJSZVZlI",
        "colab_type": "code",
        "colab": {}
      },
      "source": [
        "def clustering_image(img):\n",
        "  #img=cv2.cvtColor(img,cv2.COLOR_BGR2RGB)\n",
        "  vectorized = img.reshape((-1,3))\n",
        "  vectorized = np.float32(vectorized)\n",
        "  criteria = (cv2.TERM_CRITERIA_EPS + cv2.TERM_CRITERIA_MAX_ITER, 10, 1.0)\n",
        "  K = 2\n",
        "  attempts=10\n",
        "  ret,label,center=cv2.kmeans(vectorized,K,None,criteria,attempts,cv2.KMEANS_PP_CENTERS)\n",
        "  center = np.uint8(center)\n",
        "  res = center[label.flatten()]\n",
        "  result_image = res.reshape((img.shape))\n",
        "  return result_image, center"
      ],
      "execution_count": null,
      "outputs": []
    },
    {
      "cell_type": "code",
      "metadata": {
        "id": "ugRKEUxMVbNG",
        "colab_type": "code",
        "colab": {}
      },
      "source": [
        "def remove_light_color(img, center_color):\n",
        "  light_color = max(sum(center_color[0]), sum(center_color[1]))\n",
        "  for x in range(img.shape[0]):\n",
        "    for y in range(img.shape[1]):\n",
        "      if sum(img[x][y]) == light_color:\n",
        "        img[x][y][0]=0\n",
        "        img[x][y][1]=0\n",
        "        img[x][y][2]=0\n",
        "  return img"
      ],
      "execution_count": null,
      "outputs": []
    },
    {
      "cell_type": "markdown",
      "metadata": {
        "id": "jsRQVzmXgKbx",
        "colab_type": "text"
      },
      "source": [
        "tạo hàm chuyển canny từ cluster image"
      ]
    },
    {
      "cell_type": "code",
      "metadata": {
        "id": "8saolhjeUVPK",
        "colab_type": "code",
        "colab": {
          "base_uri": "https://localhost:8080/",
          "height": 249
        },
        "outputId": "ee0dff6c-0c61-4da1-e7a9-ab3cdc617bd4"
      },
      "source": [
        "def Clus_Canny(img):\n",
        "    resized = cv2.resize(img, (200, 200))\n",
        "    resized = cv2.cvtColor(resized, cv2.COLOR_BGR2RGB)\n",
        "    image, center = clustering_image(resized )\n",
        "    image = remove_light_color(image, center)\n",
        "    edge = cv2.Canny(image, 50, 70)\n",
        "    return edge\n",
        "# test thử canny với 1 ảnh \n",
        "img = cv2.imread (\"/content/drive/My Drive/Fruit recognition/valid data /nho/nho_17.jpg\")\n",
        "clus = cv2.cvtColor(img, cv2.COLOR_BGR2RGB)\n",
        "image, center = clustering_image(clus)\n",
        "image = remove_light_color(image, center)\n",
        "figure_size = 9\n",
        "plt.figure(figsize=(figure_size,figure_size))\n",
        "plt.subplot(1,3,1)\n",
        "plt.imshow(clus)\n",
        "plt.subplot(1,3,2)\n",
        "plt.imshow(image)\n",
        "plt.subplot(1,3,3)\n",
        "plt.imshow(Clus_Canny(img), cmap='gray')\n",
        "plt.show()"
      ],
      "execution_count": null,
      "outputs": [
        {
          "output_type": "display_data",
          "data": {
            "image/png": "[encoded data removed]",
            "text/plain": [
              "<Figure size 648x648 with 3 Axes>"
            ]
          },
          "metadata": {
            "tags": [],
            "needs_background": "light"
          }
        }
      ]
    },
    {
      "cell_type": "code",
      "metadata": {
        "id": "NN4DF4szUWEV",
        "colab_type": "code",
        "colab": {}
      },
      "source": [
        "def features_section(img):\n",
        "    features = np.array([], dtype='uint8')\n",
        "    section = 1\n",
        "    \n",
        "    for y in range(0, img.shape[0], 40):\n",
        "        for x in range(0, img.shape[1], 40):\n",
        "            \n",
        "            # Crop ảnh thành các vùng 40 * 40\n",
        "            section_img = img[y:y+40, x:x+40]\n",
        "            \n",
        "            # tính trung bình và độ lệch chuẩn của các giá trị pixel cho từng vùng\n",
        "            section_mean = np.mean(section_img)\n",
        "            section_std = np.std(section_img)\n",
        "            \n",
        "            # tạo features \n",
        "            features = np.append(features, [section_mean, section_std])\n",
        "    \n",
        "    return features"
      ],
      "execution_count": null,
      "outputs": []
    },
    {
      "cell_type": "markdown",
      "metadata": {
        "id": "1r3uKPPSX1VB",
        "colab_type": "text"
      },
      "source": [
        "đánh giá tìm ra thuật toán tốt nhất "
      ]
    },
    {
      "cell_type": "code",
      "metadata": {
        "id": "1RwuZ_2WX6mn",
        "colab_type": "code",
        "colab": {}
      },
      "source": [
        "train_clus_edge = pd.read_csv('/content/drive/My Drive/Fruit recognition/output_input/25_edge+cluster_train_features.csv')\n",
        "valid_clus_edge = pd.read_csv('/content/drive/My Drive/Fruit recognition/output_input/25_edge+cluster_valid_features.csv')"
      ],
      "execution_count": null,
      "outputs": []
    },
    {
      "cell_type": "code",
      "metadata": {
        "id": "zwTVPObTYJkG",
        "colab_type": "code",
        "colab": {}
      },
      "source": [
        "label_train_cl_ed = train_clus_edge['name']\n",
        "features_train_cl_ed = train_clus_edge.drop(['name'], axis = 1)\n",
        "label_valid_cl_ed = valid_clus_edge['name']\n",
        "features_valid_cl_ed = valid_clus_edge.drop(['name'], axis = 1)"
      ],
      "execution_count": null,
      "outputs": []
    },
    {
      "cell_type": "code",
      "metadata": {
        "id": "-9XLKiWTYcno",
        "colab_type": "code",
        "colab": {
          "base_uri": "https://localhost:8080/",
          "height": 85
        },
        "outputId": "67f4a9cb-d1e5-4f85-a344-f6bd157f111d"
      },
      "source": [
        "models_cl_ed = []\n",
        "models_cl_ed.append(('rfc', RandomForestClassifier()))\n",
        "models_cl_ed.append(('svc', SVC()))\n",
        "\n",
        "for name, model in models_cl_ed:\n",
        "  print(name)\n",
        "  model.fit(features_train_cl_ed, label_train_cl_ed)\n",
        "  pred = model.predict(features_valid_cl_ed)\n",
        "  print('\\ttest', accuracy_score(label_valid_cl_ed, pred))"
      ],
      "execution_count": null,
      "outputs": [
        {
          "output_type": "stream",
          "text": [
            "rfc\n",
            "\ttest 0.7142857142857143\n",
            "svc\n",
            "\ttest 0.6984126984126984\n"
          ],
          "name": "stdout"
        }
      ]
    },
    {
      "cell_type": "markdown",
      "metadata": {
        "id": "hzKJA4gyiCwY",
        "colab_type": "text"
      },
      "source": [
        "có thể thấy rfc cho ra kết quả tốt hơn "
      ]
    },
    {
      "cell_type": "markdown",
      "metadata": {
        "id": "ep_3Icg_pcz5",
        "colab_type": "text"
      },
      "source": [
        "## kiểm tra độ chính xác của model đối với tập test data"
      ]
    },
    {
      "cell_type": "markdown",
      "metadata": {
        "id": "d2aoyOioZB-u",
        "colab_type": "text"
      },
      "source": [
        "test với model cluster màu + Canny edge"
      ]
    },
    {
      "cell_type": "markdown",
      "metadata": {
        "id": "ES7af3GjiIHd",
        "colab_type": "text"
      },
      "source": [
        "tạo hàm chuyển ảnh sang dataframe"
      ]
    },
    {
      "cell_type": "code",
      "metadata": {
        "id": "GyfyFWaJUZpo",
        "colab_type": "code",
        "colab": {}
      },
      "source": [
        "def create_df_with_one_image(img):\n",
        "  feature_name = []\n",
        "  section = 1\n",
        "  for y in range(0, 200, 40):\n",
        "      for x in range(0, 200, 40):\n",
        "          feature_name.append(f\"sec{section}_mean\")\n",
        "          feature_name.append(f\"sec{section}_std\")\n",
        "          section += 1\n",
        "  \n",
        "  all_imgs = np.zeros((1, 50), dtype='uint8')\n",
        "\n",
        "  name = []\n",
        "  section_mean = []\n",
        "  section_std = []\n",
        "\n",
        "  img = Clus_Canny(img)\n",
        "\n",
        "  img_features = features_section(img)\n",
        "  img_features = img_features.reshape(1, img_features.shape[0])\n",
        "\n",
        "  all_imgs = np.append(all_imgs, img_features, axis=0)\n",
        "  all_imgs = all_imgs[1:]\n",
        "\n",
        "  df = pd.DataFrame(all_imgs, columns= feature_name)\n",
        "  return df"
      ],
      "execution_count": null,
      "outputs": []
    },
    {
      "cell_type": "markdown",
      "metadata": {
        "id": "K4HsEmgViMez",
        "colab_type": "text"
      },
      "source": [
        "sử dụng test data để đánh giá model hoạt động trong thực tế "
      ]
    },
    {
      "cell_type": "code",
      "metadata": {
        "id": "ZBgEFg0YUanv",
        "colab_type": "code",
        "colab": {
          "base_uri": "https://localhost:8080/",
          "height": 1000
        },
        "outputId": "05685a8a-bed9-4fb7-f386-5ff66727f79f"
      },
      "source": [
        "path = '/content/drive/My Drive/Fruit recognition/valid data '\n",
        "file_name = os.listdir(path)\n",
        "all_25 = 0\n",
        "total_wrong_25 = 0\n",
        "for name in file_name:\n",
        "  total = 0\n",
        "  wrong = 0\n",
        "  print(name)\n",
        "  for image in os.listdir(path+'/'+name):\n",
        "    #print(path+'/'+name+'/'+image)\n",
        "    img = cv2.imread(path+'/'+name+'/'+image)\n",
        "    resized_img = cv2.resize(img, (200, 200))\n",
        "    resized_img = cv2.cvtColor(resized_img,cv2.COLOR_BGR2RGB)\n",
        "\n",
        "    final_df = create_df_with_one_image(resized_img)\n",
        "\n",
        "    predicted_label = models_cl_ed[1][1].predict(final_df)\n",
        "    if predicted_label != name:\n",
        "      wrong+=1\n",
        "    total+=1\n",
        "\n",
        "    figure_size = 6\n",
        "    plt.figure(figsize=(figure_size,figure_size))\n",
        "\n",
        "    plt.subplot(1,2,1)\n",
        "    plt.imshow(resized_img)\n",
        "    plt.title('Original Image'), plt.xticks([]), plt.yticks([])\n",
        "\n",
        "    plt.subplot(1,2,2)\n",
        "    plt.imshow(Clus_Canny(resized_img))\n",
        "    plt.title('true: {}-predicted:{}'.format(name, predicted_label)), plt.xticks([]), plt.yticks([])\n",
        "\n",
        "    plt.show()\n",
        "  print('{}/{} wrong'.format(wrong, total))\n",
        "  total_wrong_25 += wrong\n",
        "  all_25 += total\n",
        "print (total_wrong_25)"
      ],
      "execution_count": null,
      "outputs": []
    },
    {
      "cell_type": "markdown",
      "metadata": {
        "id": "4VZ3weLpZiWK",
        "colab_type": "text"
      },
      "source": [
        "đánh giá model sử dụng canny edge với ảnh gốc "
      ]
    },
    {
      "cell_type": "code",
      "metadata": {
        "colab_type": "code",
        "id": "VWYEVD8FZntP",
        "colab": {}
      },
      "source": [
        "def create_df_with_one_image_edge(img):\n",
        "  feature_name = []\n",
        "  section = 1\n",
        "  for y in range(0, 200, 40):\n",
        "      for x in range(0, 200, 40):\n",
        "          feature_name.append(f\"sec{section}_mean\")\n",
        "          feature_name.append(f\"sec{section}_std\")\n",
        "          section += 1\n",
        "  \n",
        "  all_imgs = np.zeros((1, 50), dtype='uint8')\n",
        "\n",
        "  name = []\n",
        "  section_mean = []\n",
        "  section_std = []\n",
        "\n",
        "  img = Ori_Canny(img)\n",
        "\n",
        "  img_features = features_section(img)\n",
        "  img_features = img_features.reshape(1, img_features.shape[0])\n",
        "\n",
        "  all_imgs = np.append(all_imgs, img_features, axis=0)\n",
        "  all_imgs = all_imgs[1:]\n",
        "\n",
        "  df = pd.DataFrame(all_imgs, columns= feature_name)\n",
        "  return df"
      ],
      "execution_count": null,
      "outputs": []
    },
    {
      "cell_type": "code",
      "metadata": {
        "id": "aHVrjQuFZwlA",
        "colab_type": "code",
        "colab": {
          "base_uri": "https://localhost:8080/",
          "height": 1000
        },
        "outputId": "873b0b45-43ef-470d-ede7-4e0a796ee2c5"
      },
      "source": [
        "path = '/content/drive/My Drive/Fruit recognition/valid data '\n",
        "file_name = os.listdir(path)\n",
        "all_25 = 0\n",
        "total_wrong_25 = 0\n",
        "for name in file_name:\n",
        "  total = 0\n",
        "  wrong = 0\n",
        "  print(name)\n",
        "  for image in os.listdir(path+'/'+name):\n",
        "    img = cv2.imread(path+'/'+name+'/'+image)\n",
        "    resized_img = cv2.resize(img, (200, 200))\n",
        "    #resized_img = cv2.cvtColor(resized_img,cv2.COLOR_BGR2RGB)\n",
        "\n",
        "    final_df = create_df_with_one_image_edge(resized_img)\n",
        "\n",
        "    predicted_label = models[2][1].predict(final_df)\n",
        "    if predicted_label != name:\n",
        "      wrong+=1\n",
        "    total+=1\n",
        "\n",
        "    figure_size = 6\n",
        "    plt.figure(figsize=(figure_size,figure_size))\n",
        "\n",
        "    plt.subplot(1,2,1)\n",
        "    plt.imshow(resized_img)\n",
        "    plt.title('Original Image'), plt.xticks([]), plt.yticks([])\n",
        "\n",
        "    plt.subplot(1,2,2)\n",
        "    plt.imshow(Ori_Canny(resized_img))\n",
        "    plt.title('true: {}-predicted:{}'.format(name, predicted_label)), plt.xticks([]), plt.yticks([])\n",
        "\n",
        "    plt.show()\n",
        "  print('{}/{} wrong'.format(wrong, total))\n",
        "  total_wrong_25 += wrong\n",
        "  all_25 += total\n",
        "print (total_wrong_25)"
      ],
      "execution_count": null,
      "outputs": []
    },
    {
      "cell_type": "markdown",
      "metadata": {
        "id": "mCDS3FJ24pEY",
        "colab_type": "text"
      },
      "source": [
        "## tổng kết: \n",
        "sử dụng Canny edge với ảnh gốc:\n",
        "\n",
        "- random forest classify:\n",
        "\n",
        "    test accuraccy: 0.7746031746031746\n",
        "- svc:\n",
        "\n",
        "\ttest accuraccy: 0.8047619047619048\n",
        "\n",
        "sử dụng Canny edge với ảnh sau khi xử lý qua cluster 2 màu:\n",
        "\n",
        "- random forest classify:\n",
        "\n",
        "    test accuraccy: 0.7142857142857143\n",
        "- svc:\n",
        "\n",
        "\ttest accuraccy: 0.6984126984126984\n",
        "\n",
        "**Tổng quan, có thể nhận định xử lý Canny edge với ảnh gốc cho ra accuraccy cao hơn so với sử dụng canny edge sau khi cluster.**\n"
      ]
    }
  ]
}